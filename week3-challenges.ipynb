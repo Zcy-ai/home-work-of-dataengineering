{
 "cells": [
  {
   "cell_type": "markdown",
   "metadata": {},
   "source": [
    "# Python For Data Engineering part 2 – the TD"
   ]
  },
  {
   "cell_type": "markdown",
   "metadata": {},
   "source": [
    "## The CSV analysis\n",
    "\n",
    "download the mobike csv usign baidu pan\n",
    "\n",
    "链接: https://pan.baidu.com/s/1aszR_8xX9cvniCeGO9OwaA  \n",
    "\n",
    "密码: kak5\n",
    "--来自百度网盘超级会员V3的分享\n",
    "\n",
    "Using the mobike dataset, read the csv and answer the following questions:\n",
    "\n",
    "1. Which day of the week see the most events?\n",
    "2. Which day of the month see the most events? \n",
    "3. Which bike has been used the most?\n",
    "4. How many bike does a user use in average?\n",
    "5. Which day of the week has the longest average travel?"
   ]
  },
  {
   "cell_type": "code",
   "execution_count": 5,
   "metadata": {},
   "outputs": [],
   "source": [
    "import csv\n",
    "import datetime\n",
    "import requests\n",
    "with open('UTSEUS-MOBIKE-shanghai_full.csv',\"r\") as mobike:\n",
    "    csvreader = csv.reader(mobike)\n",
    "    mobikedata = [row for i, row in enumerate(mobike)]"
   ]
  },
  {
   "cell_type": "markdown",
   "metadata": {},
   "source": [
    "<font size=5>Q1:Which day of the week see the most events?</font>"
   ]
  },
  {
   "cell_type": "code",
   "execution_count": 2,
   "metadata": {},
   "outputs": [
    {
     "data": {
      "text/plain": [
       "{1: 162692, 2: 161838, 3: 177561, 4: 125751, 5: 132976, 6: 133356, 7: 129429}"
      ]
     },
     "execution_count": 2,
     "metadata": {},
     "output_type": "execute_result"
    }
   ],
   "source": [
    "#q1\n",
    "date_dict={1:0,2:0,3:0,4:0,5:0,6:0,7:0}\n",
    "with open('UTSEUS-MOBIKE-shanghai_full.csv',\"r\") as mobike:\n",
    "    csvreader = csv.reader(mobike)\n",
    "    next(mobike)\n",
    "    for row in csvreader:\n",
    "        test_row=row[3].strip()\n",
    "        weekday=datetime.date(int(test_row[0:4]),int(test_row[5:7]),int(test_row[8:10])).isoweekday()\n",
    "        date_dict[weekday]+= 1\n",
    "date_dict"
   ]
  },
  {
   "cell_type": "markdown",
   "metadata": {},
   "source": [
    "Wedneseday see the most events"
   ]
  },
  {
   "cell_type": "markdown",
   "metadata": {},
   "source": [
    "<font size=5>Q2:Which day of the month see the most events?</font>"
   ]
  },
  {
   "cell_type": "code",
   "execution_count": 3,
   "metadata": {},
   "outputs": [
    {
     "data": {
      "text/plain": [
       "31"
      ]
     },
     "execution_count": 3,
     "metadata": {},
     "output_type": "execute_result"
    }
   ],
   "source": [
    "#q2\n",
    "day=[]\n",
    "with open('UTSEUS-MOBIKE-shanghai_full.csv','r') as mobike:\n",
    "    csvreader=csv.reader(mobike)\n",
    "    next(mobike)\n",
    "    for row in csvreader:\n",
    "        test_row=row[3].strip()\n",
    "        day.append(int(test_row[8:10]))\n",
    "time_day=[]\n",
    "for i in range(1,32):\n",
    "    time_day.append(day.count(i))\n",
    "time_day.index(max(time_day))+1"
   ]
  },
  {
   "cell_type": "markdown",
   "metadata": {},
   "source": [
    "the 31th day of the month see the most events"
   ]
  },
  {
   "cell_type": "markdown",
   "metadata": {},
   "source": [
    "<font size=5>Q3:Which bike has been used the most?</font>"
   ]
  },
  {
   "cell_type": "code",
   "execution_count": 2,
   "metadata": {},
   "outputs": [
    {
     "name": "stdout",
     "output_type": "stream",
     "text": [
      "32253\n"
     ]
    }
   ],
   "source": [
    "#q3\n",
    "bike=[]\n",
    "times=[]\n",
    "with open('UTSEUS-MOBIKE-shanghai_full.csv','r') as mobike:\n",
    "    csvreader=csv.reader(mobike)\n",
    "    next(mobike)\n",
    "    for row in csvreader:\n",
    "        test_row=row[1].strip()\n",
    "        if(test_row in bike):\n",
    "            times[bike.index(test_row)]+=1\n",
    "        else:\n",
    "            bike.append(test_row)\n",
    "            times.append(1)\n",
    "max_time=max(times)\n",
    "index_max_time=times.index(max_time)\n",
    "print(bike[index_max_time])"
   ]
  },
  {
   "cell_type": "markdown",
   "metadata": {},
   "source": [
    "The bike whose id is '32253' has benn used the most"
   ]
  },
  {
   "cell_type": "markdown",
   "metadata": {},
   "source": [
    "<font size=5>Q4:How many bike does a user use in average?</font>"
   ]
  },
  {
   "cell_type": "code",
   "execution_count": 6,
   "metadata": {},
   "outputs": [
    {
     "name": "stdout",
     "output_type": "stream",
     "text": [
      "57.87\n"
     ]
    }
   ],
   "source": [
    "#q4\n",
    "user_dict=[]\n",
    "num_bike=0\n",
    "with open('UTSEUS-MOBIKE-shanghai_full.csv','r') as mobike:\n",
    "    csvreader=csv.reader(mobike)\n",
    "    next(mobike)\n",
    "    for row in csvreader:\n",
    "        test_row=row[2].strip()\n",
    "        num_bike+=1\n",
    "        if(test_row not in user_dict):\n",
    "            user_dict.append(test_row)\n",
    "average=round(num_bike/len(user_dict),2)\n",
    "print(average)"
   ]
  },
  {
   "cell_type": "markdown",
   "metadata": {},
   "source": [
    "a user uses 57.87 bikes in average "
   ]
  },
  {
   "cell_type": "markdown",
   "metadata": {},
   "source": [
    "<font size=5>Q5:Which day of the week has the longest average travel?</font>"
   ]
  },
  {
   "cell_type": "code",
   "execution_count": 8,
   "metadata": {},
   "outputs": [
    {
     "name": "stdout",
     "output_type": "stream",
     "text": [
      "{1: 9.16, 2: 9.6, 3: 10.17, 4: 10.21, 5: 5.84, 6: 6.85, 7: 10.42}\n"
     ]
    }
   ],
   "source": [
    "#q5\n",
    "sum_dict={1:0,2:0,3:0,4:0,5:0,6:0,7:0}\n",
    "date_dict={1:0,2:0,3:0,4:0,5:0,6:0,7:0}\n",
    "average_dict={1:0,2:0,3:0,4:0,5:0,6:0,7:0}\n",
    "with open('UTSEUS-MOBIKE-shanghai_full.csv','r') as mobike:\n",
    "    csvreader=csv.reader(mobike)\n",
    "    next(mobike)\n",
    "    for row in csvreader:\n",
    "        start_row = row[3].strip()\n",
    "        end_row = row[6].strip()\n",
    "        start = int(start_row[-5:-3]) * 60 + int(start_row[-2:])\n",
    "        end = int(end_row[-5:-3]) * 60 + int(end_row[-2:])\n",
    "        difference = end - start\n",
    "        time=datetime.date(int(start_row[0:4]),int(start_row[5:7]),int(start_row[8:10]))\n",
    "        weekday=time.isoweekday()\n",
    "        sum_dict[weekday]+=difference\n",
    "        date_dict[weekday]+=1\n",
    "for i in range(1,8):\n",
    "    average_dict[i]=round(sum_dict[i]/date_dict[i],2)\n",
    "print(average_dict)"
   ]
  },
  {
   "cell_type": "markdown",
   "metadata": {},
   "source": [
    "Sunday has the longest average travel"
   ]
  },
  {
   "cell_type": "markdown",
   "metadata": {},
   "source": [
    "<font size=5>Challenge of API</font>"
   ]
  },
  {
   "cell_type": "markdown",
   "metadata": {},
   "source": [
    "API"
   ]
  },
  {
   "cell_type": "code",
   "execution_count": null,
   "metadata": {},
   "outputs": [],
   "source": [
    "isbn = '9782070754922'\n",
    "url= f'https://openlibrary.org/api/books'\n",
    "params = {'bibkeys':f'ISBN:{isbn}',\n",
    "          'format':'json',\n",
    "          'jscmd':'data'}\n",
    "r=requests.get(url, params=params)\n",
    "r.status_code"
   ]
  },
  {
   "cell_type": "code",
   "execution_count": 18,
   "metadata": {},
   "outputs": [],
   "source": [
    "import requests"
   ]
  },
  {
   "cell_type": "code",
   "execution_count": 27,
   "metadata": {},
   "outputs": [
    {
     "data": {
      "text/plain": [
       "200"
      ]
     },
     "execution_count": 27,
     "metadata": {},
     "output_type": "execute_result"
    }
   ],
   "source": [
    "urlpara={\n",
    "    'wd':'iphone',\n",
    "    'rsv_spt':'1'\n",
    "}\n",
    "url='https://www.baidu.com/s'\n",
    "r=requests.get(url,urlpara)\n",
    "r.status_code"
   ]
  },
  {
   "cell_type": "code",
   "execution_count": 45,
   "metadata": {},
   "outputs": [
    {
     "data": {
      "text/plain": [
       "200"
      ]
     },
     "execution_count": 45,
     "metadata": {},
     "output_type": "execute_result"
    }
   ],
   "source": [
    "import requests\n",
    "url_git='https://api.github.com/users/fpfaende'\n",
    "r_git=requests.get(url_git)\n",
    "r_git.status_code"
   ]
  },
  {
   "cell_type": "code",
   "execution_count": 46,
   "metadata": {},
   "outputs": [
    {
     "data": {
      "text/plain": [
       "'Fabien Pfaender'"
      ]
     },
     "execution_count": 46,
     "metadata": {},
     "output_type": "execute_result"
    }
   ],
   "source": [
    "response=r_git.json()\n",
    "response['name']"
   ]
  }
 ],
 "metadata": {
  "kernelspec": {
   "display_name": "Python 3",
   "language": "python",
   "name": "python3"
  },
  "language_info": {
   "codemirror_mode": {
    "name": "ipython",
    "version": 3
   },
   "file_extension": ".py",
   "mimetype": "text/x-python",
   "name": "python",
   "nbconvert_exporter": "python",
   "pygments_lexer": "ipython3",
   "version": "3.8.5"
  }
 },
 "nbformat": 4,
 "nbformat_minor": 4
}
