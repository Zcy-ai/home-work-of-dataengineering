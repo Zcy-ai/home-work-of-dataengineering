{
 "cells": [
  {
   "cell_type": "markdown",
   "metadata": {},
   "source": [
    "# Python For Data Engineering part 1 – the TD"
   ]
  },
  {
   "cell_type": "markdown",
   "metadata": {},
   "source": [
    "## The strings functions\n",
    "\n",
    "complete the functions "
   ]
  },
  {
   "cell_type": "code",
   "execution_count": 1,
   "metadata": {},
   "outputs": [],
   "source": [
    "def add_comma(a_string):\n",
    "    return a_string.replace(' ', ', ')\n",
    "    # example: add_comma(\"John Peter Jude\") => \"John, Peter, Jude\"\n",
    "\n",
    "def belongs_to(a_string, a_word):\n",
    "    return a_word in a_string\n",
    "    # example: belongs_to(\"hey jude\", \"jude\") => True\n",
    "\n",
    "def count_repetition(a_string, a_substring):\n",
    "    return a_string.count(a_substring)\n",
    "    # example: count_repetition(\"000123000123\", \"0\") => 6\n",
    "\n",
    "def is_a_question(a_string):\n",
    "    return a_string.endswith('?')\n",
    "    # example: is_a_question(\"How are you?\") => True\n",
    "\n",
    "def remove_surrounding_whitespaces(a_string):\n",
    "    return a_string.strip()\n",
    "    # example: delete_surrounding_whitespaces(\"  hey yo  \") => \"hey yo\"\n",
    "\n",
    "def replace(initial_string, old_letter, new_letter):\n",
    "    return initial_string.replace(old_letter, new_letter)\n",
    "    # example: replace(\"casanova\", \"a\", \"o\") => \"cosonovo\"\n",
    "\n",
    "def full_description_concatenation(first_name, last_name, age):\n",
    "    return first_name.capitalize() + ' ' + last_name.capitalize() + ' is ' + age\n",
    "    # example: full_description_concatenation(\"john\", \"doe\", 33) => \"John Doe is 33\"\n",
    "\n",
    "def full_description_formatting(first_name, last_name, age):\n",
    "    return f'{first_name.capitalize()} {last_name.capitalize()} is {age}'\n",
    "    # example: full_description_formatting(\"john\", \"doe\", 33) => \"John Doe is 33\n",
    "    \n",
    "    \n",
    "assert(add_comma('Shanghai Beijing Nanjing') == 'Shanghai, Beijing, Nanjing')\n",
    "assert(belongs_to('I love Shanghai University', 'Shanghai') == True)\n",
    "assert(count_repetition('石室詩士施氏，嗜獅，誓食十獅。施氏時時適市視獅。十時，適十獅適市。是時，適施氏適市。氏視是十獅，恃矢勢，使是十獅逝世','十') == 5)\n",
    "assert(is_a_question('are you OK? ') == False)\n",
    "assert(is_a_question('are you OK?') == True)\n",
    "assert(remove_surrounding_whitespaces('   I love Wechat typing        ') == 'I love Wechat typing')\n",
    "assert(replace('whole','o','a') == 'whale')\n",
    "assert(full_description_concatenation('gwynne','shotwell','58') == 'Gwynne Shotwell is 58')\n",
    "assert(full_description_formatting('gwynne','shotwell','58') == 'Gwynne Shotwell is 58')"
   ]
  },
  {
   "cell_type": "markdown",
   "metadata": {},
   "source": [
    "## The mobike time difference\n",
    "\n",
    "given the following mobike csv 10 first lines"
   ]
  },
  {
   "cell_type": "code",
   "execution_count": 2,
   "metadata": {},
   "outputs": [],
   "source": [
    "mobike = '''\n",
    "orderid,bikeid,userid,start_time,start_location_x,start_location_y,end_time,end_location_x,end_location_y,track\n",
    "1,324731,7541,2016-08-28 00:00,121.49,31.28,2016-08-28 00:08,121.486,31.273,\"121.485,31.275#121.485,31.276#121.486,31.273#121.486,31.274#121.486,31.275#121.486,31.276#121.487,31.276#121.488,31.276#121.489,31.276#121.490,31.276#121.490,31.277#121.490,31.278#121.490,31.279#121.490,31.280\"\n",
    "6,288841,4427,2016-08-28 00:00,121.462,31.313,2016-08-28 00:17,121.455,31.315,\"121.455,31.313#121.455,31.314#121.455,31.315#121.456,31.313#121.457,31.313#121.458,31.313#121.459,31.313#121.460,31.313#121.461,31.313#121.462,31.313\"\n",
    "8,315873,6474,2016-08-28 00:00,121.416,31.154,2016-08-28 00:14,121.419,31.156,\"121.416,31.154#121.416,31.155#121.417,31.155#121.418,31.155#121.418,31.156#121.419,31.156#121.420,31.156#121.420,31.157#121.421,31.156#121.421,31.157#121.422,31.157\"\n",
    "10,93155,12616,2016-08-28 00:00,121.436,31.32,2016-08-28 00:12,121.444,31.31,\"121.436,31.318#121.436,31.319#121.436,31.320#121.437,31.312#121.437,31.313#121.437,31.314#121.437,31.315#121.437,31.316#121.437,31.317#121.438,31.310#121.438,31.311#121.439,31.310#121.440,31.310#121.441,31.310#121.442,31.310#121.443,31.310#121.444,31.310\"\n",
    "11,352484,11596,2016-08-28 00:00,121.459,31.325,2016-08-28 00:08,121.46,31.315,\"121.459,31.315#121.459,31.316#121.459,31.317#121.459,31.318#121.459,31.319#121.459,31.320#121.459,31.321#121.459,31.322#121.459,31.323#121.459,31.324#121.459,31.325#121.460,31.315\"\n",
    "13,127840,9570,2016-08-28 00:00,121.353,31.285,2016-08-28 00:07,121.362,31.283,\"121.353,31.285#121.354,31.285#121.354,31.286#121.355,31.286#121.355,31.287#121.356,31.287#121.356,31.288#121.357,31.287#121.358,31.287#121.359,31.286#121.359,31.287#121.360,31.286#121.361,31.286#121.362,31.283#121.362,31.284#121.362,31.285\"\n",
    "15,125990,15692,2016-08-28 00:00,121.441,31.228,2016-08-28 00:30,121.455,31.19,\"121.440,31.224#121.440,31.225#121.440,31.226#121.441,31.223#121.441,31.226#121.441,31.227#121.441,31.228#121.442,31.221#121.442,31.222#121.442,31.223#121.442,31.226#121.442,31.227#121.443,31.216#121.443,31.217#121.443,31.218#121.443,31.219#121.443,31.220#121.443,31.221#121.444,31.214#121.444,31.215#121.444,31.216#121.445,31.212#121.445,31.213#121.445,31.214#121.446,31.209#121.446,31.210#121.446,31.211#121.446,31.212#121.447,31.208#121.447,31.209#121.448,31.204#121.448,31.205#121.448,31.206#121.448,31.207#121.448,31.208#121.449,31.201#121.449,31.202#121.449,31.203#121.450,31.196#121.450,31.197#121.450,31.198#121.450,31.199#121.450,31.200#121.451,31.195#121.451,31.196#121.452,31.193#121.452,31.194#121.452,31.195#121.453,31.192#121.453,31.193#121.454,31.190#121.454,31.191#121.455,31.190\"\n",
    "16,346549,4373,2016-08-28 00:00,121.426,31.222,2016-08-28 00:31,121.423,31.268,\"121.419,31.241#121.420,31.240#121.420,31.241#121.420,31.242#121.421,31.232#121.421,31.233#121.421,31.234#121.421,31.239#121.421,31.240#121.421,31.242#121.421,31.255#121.421,31.256#121.421,31.257#121.422,31.231#121.422,31.232#121.422,31.235#121.422,31.238#121.422,31.239#121.422,31.242#121.422,31.243#121.422,31.251#121.422,31.252#121.422,31.253#121.422,31.254#121.422,31.255#121.422,31.257#121.422,31.258#121.422,31.259#121.422,31.260#121.422,31.261#121.422,31.262#121.422,31.263#121.422,31.264#121.422,31.265#121.422,31.266#121.423,31.229#121.423,31.230#121.423,31.235#121.423,31.238#121.423,31.243#121.423,31.250#121.423,31.251#121.423,31.266#121.423,31.267#121.423,31.268#121.424,31.226#121.424,31.227#121.424,31.228#121.424,31.235#121.424,31.236#121.424,31.237#121.424,31.238#121.424,31.243#121.424,31.244#121.424,31.248#121.424,31.249#121.425,31.225#121.425,31.226#121.425,31.236#121.425,31.237#121.425,31.244#121.425,31.245#121.425,31.246#121.425,31.247#121.425,31.248#121.426,31.222#121.426,31.223#121.426,31.224#121.426,31.225#121.426,31.245#121.426,31.246#121.427,31.223#121.427,31.224\"\n",
    "17,352552,350,2016-08-28 00:00,121.524,31.301,2016-08-28 00:14,121.518,31.291,\"121.518,31.291#121.519,31.291#121.520,31.291#121.520,31.292#121.521,31.292#121.522,31.292#121.523,31.292#121.523,31.293#121.523,31.298#121.523,31.299#121.523,31.300#121.524,31.293#121.524,31.296#121.524,31.297#121.524,31.298#121.524,31.300#121.524,31.301#121.525,31.293#121.525,31.294#121.525,31.295#121.525,31.296\"\n",
    "'''"
   ]
  },
  {
   "cell_type": "markdown",
   "metadata": {},
   "source": [
    "#### read the lines and give the average time in minutes of a travel (precision 2decimals). \n",
    "\n",
    "you should find something close to 15"
   ]
  },
  {
   "cell_type": "code",
   "execution_count": 3,
   "metadata": {},
   "outputs": [
    {
     "name": "stdout",
     "output_type": "stream",
     "text": [
      "the average travel lasts 15.67\n"
     ]
    }
   ],
   "source": [
    "sum=0\n",
    "for i in mobike.split('\\n')[2:11]:\n",
    "    time1=i.split(',')[3]\n",
    "    time2=i.split(',')[6]\n",
    "    Time1=time1[14]+time1[15]\n",
    "    Time2=time2[14]+time2[15]\n",
    "    interval=int(Time2)-int(Time1)\n",
    "    sum=sum+interval\n",
    "ave=sum/9\n",
    "print('the average travel lasts', round(ave,2))"
   ]
  },
  {
   "cell_type": "markdown",
   "metadata": {},
   "source": [
    "## The length converter\n",
    "\n",
    "Lets's build a length converter to manipulate tuples, dictionaries and list comprehension.\n",
    "\n",
    "1. create a dictionnary called FACTOR. They **keys** of the dictionnary will be a string mentionning the units like \"meter_to_mile\", \"meter_to_yard\" or \"toise_to_parsec\" (toise is a French old school unit). The **values** are stored as a float number.\n",
    "\n",
    "2. create and implement a **_convert(current_length, target_unit)_** function where current length is a tuple with a float and the unit like (2.5, 'meter') and target unit is another unit like 'mile'. The result will be rounded to the nearest hundredth.\n",
    "\n",
    "3. if called with an unknown factor, the function shall return none"
   ]
  },
  {
   "cell_type": "code",
   "execution_count": 4,
   "metadata": {},
   "outputs": [],
   "source": [
    "FACTOR = {'meter_to_yard':1.092,'nautical_mile_to_toise':950.232}\n",
    "\n",
    "def convert(current_length, target_length):\n",
    "    current_type = current_length[1]\n",
    "    target_type = target_length\n",
    "    type_string=current_length[1]+'_to_'+target_length\n",
    "    if(type_string in FACTOR):\n",
    "        return round(current_length[0]*FACTOR[current_type+'_to_'+target_type]*100)/100\n",
    "    elif(target_type+'_to_'+current_type in FACTOR):\n",
    "        return round(current_length[0]/FACTOR[target_type+'_to_'+current_type]*100)/100\n",
    "    else:\n",
    "        return None\n",
    "\n",
    "assert(convert((2.5, 'meter'), 'yard') == 2.73)\n",
    "assert(convert((2.5, 'yard'), 'meter') == 2.29)\n",
    "assert(convert((2.5, 'nautical_mile'), 'toise') == 2375.58)\n",
    "assert(convert((2.5, 'meter'), 'pica') == None) # pica is a printer unit"
   ]
  },
  {
   "cell_type": "code",
   "execution_count": null,
   "metadata": {},
   "outputs": [],
   "source": []
  }
 ],
 "metadata": {
  "kernelspec": {
   "display_name": "Python 3",
   "language": "python",
   "name": "python3"
  },
  "language_info": {
   "codemirror_mode": {
    "name": "ipython",
    "version": 3
   },
   "file_extension": ".py",
   "mimetype": "text/x-python",
   "name": "python",
   "nbconvert_exporter": "python",
   "pygments_lexer": "ipython3",
   "version": "3.8.5"
  }
 },
 "nbformat": 4,
 "nbformat_minor": 4
}
