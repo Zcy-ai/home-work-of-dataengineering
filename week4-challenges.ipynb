{
 "cells": [
  {
   "cell_type": "markdown",
   "metadata": {},
   "source": [
    "# SQL, a primer\n",
    "\n",
    "## ERD Diagram\n",
    "\n",
    "draw a ER diagram of the database and paste the screen shot here. \n",
    "\n",
    "you can use [this online editor for example](https://online.visual-paradigm.com/diagrams/solutions/free-erd-editor-online/)\n",
    "\n",
    "## Query the database\n",
    "\n",
    "### Simple Query\n",
    "\n",
    "🤔 display the records of the table weibo_status (fetchall)"
   ]
  },
  {
   "cell_type": "code",
   "execution_count": 64,
   "metadata": {},
   "outputs": [
    {
     "data": {
      "text/plain": [
       "520223"
      ]
     },
     "execution_count": 64,
     "metadata": {},
     "output_type": "execute_result"
    }
   ],
   "source": [
    "import sqlite3\n",
    "conn=sqlite3.connect('UTSEUS-shanghai-weibo-2012.db')\n",
    "c=conn.cursor()\n",
    "c.execute(\"SELECT * FROM weibo_status\")\n",
    "rows=c.fetchall()\n",
    "len(rows)"
   ]
  },
  {
   "cell_type": "markdown",
   "metadata": {},
   "source": [
    "🤔 display the first 5 records of the table weibo_status (fetchone, limit)"
   ]
  },
  {
   "cell_type": "code",
   "execution_count": 10,
   "metadata": {},
   "outputs": [
    {
     "data": {
      "text/plain": [
       "[(3513796771294526,\n",
       "  '吃火锅啦 我在#洪长兴羊肉馆(云南南路店)# http://t.cn/zOeOmRM',\n",
       "  1153054312,\n",
       "  34647,\n",
       "  '2012-11-18 19:24:56+08',\n",
       "  None),\n",
       " (3514061394691877,\n",
       "  '我要回来啦！！！阳光明媚啊！ 我在#大连周水子国际机场# http://t.cn/zOrpZiP',\n",
       "  2883949090,\n",
       "  19848,\n",
       "  '2012-11-19 12:56:27+08',\n",
       "  None),\n",
       " (3517373581677145,\n",
       "  '不要散布你的困惑和苦厄，更不要炫耀你的幸福和喜乐。那只会使它们变得廉价。做个有骨气的人，戴一副合法的表情，纵有千言万语，只与自己说。 我在#新葡京娱乐场# http://t.cn/zj5w1zd',\n",
       "  2287099050,\n",
       "  32214,\n",
       "  '2012-11-28 16:17:55+08',\n",
       "  None),\n",
       " (3518848299203707,\n",
       "  'The food just so so here [围脖] 我在#首尔焖鲜汇# http://t.cn/zjtAtq9',\n",
       "  1765471642,\n",
       "  2214,\n",
       "  '2012-12-02 17:57:53+08',\n",
       "  None),\n",
       " (3518909267803148,\n",
       "  '老公和同事饭局间作一打游诗:我坐2 号头，你坐2号尾， 日日思君不见君，共坐2号轨。致静安女和张江男。 我在这里：http://t.cn/zlQbJ1x',\n",
       "  2709940290,\n",
       "  31412,\n",
       "  '2012-12-02 22:00:10+08',\n",
       "  None)]"
      ]
     },
     "execution_count": 10,
     "metadata": {},
     "output_type": "execute_result"
    }
   ],
   "source": [
    "query='''\n",
    "SELECT * \n",
    "FROM weibo_status\n",
    "LIMIT 5\n",
    "'''\n",
    "c.execute(query)\n",
    "rows=c.fetchall()\n",
    "rows"
   ]
  },
  {
   "cell_type": "markdown",
   "metadata": {},
   "source": [
    "### query with projection\n",
    "\n",
    "🤔 display the columns with the status text and the date from weibo_status "
   ]
  },
  {
   "cell_type": "code",
   "execution_count": 65,
   "metadata": {},
   "outputs": [
    {
     "data": {
      "text/plain": [
       "520223"
      ]
     },
     "execution_count": 65,
     "metadata": {},
     "output_type": "execute_result"
    }
   ],
   "source": [
    "query='''\n",
    "SELECT status,created_at\n",
    "FROM weibo_status\n",
    "'''\n",
    "c.execute(query)\n",
    "rows=c.fetchall()\n",
    "len(rows)"
   ]
  },
  {
   "cell_type": "markdown",
   "metadata": {},
   "source": [
    "🤔 display the description and gender from the table weibo_user __*renamed into `wu`*__"
   ]
  },
  {
   "cell_type": "code",
   "execution_count": 66,
   "metadata": {},
   "outputs": [
    {
     "data": {
      "text/plain": [
       "547363"
      ]
     },
     "execution_count": 66,
     "metadata": {},
     "output_type": "execute_result"
    }
   ],
   "source": [
    "query='''\n",
    "SELECT wu.description,wu.gender\n",
    "FROM weibo_user wu\n",
    "'''\n",
    "c.execute(query)\n",
    "rows=c.fetchall()\n",
    "len(rows)"
   ]
  },
  {
   "cell_type": "markdown",
   "metadata": {},
   "source": [
    "🤔 display only the description from the table weibo_user but __rename the column `desc` instead of `description`__"
   ]
  },
  {
   "cell_type": "code",
   "execution_count": 67,
   "metadata": {},
   "outputs": [
    {
     "data": {
      "text/plain": [
       "547363"
      ]
     },
     "execution_count": 67,
     "metadata": {},
     "output_type": "execute_result"
    }
   ],
   "source": [
    "query='''\n",
    "SELECT description as desc\n",
    "FROM weibo_user\n",
    "'''\n",
    "c.execute(query)\n",
    "rows=c.fetchall()\n",
    "len(rows)"
   ]
  },
  {
   "cell_type": "markdown",
   "metadata": {},
   "source": [
    "### query with selection\n",
    "\n",
    "🤔 Select all the points of interests (POI) in jufengyuan road from the table weibo_location"
   ]
  },
  {
   "cell_type": "code",
   "execution_count": null,
   "metadata": {},
   "outputs": [],
   "source": [
    "query='''\n",
    "SELECT * \n",
    "FROM weibo_location\n",
    "WHERE address LIKE '%%'\n",
    "'''\n",
    "c.execute(query)\n",
    "rows=c.fetchall()\n",
    "rows"
   ]
  },
  {
   "cell_type": "markdown",
   "metadata": {},
   "source": [
    "🤔 Select all the shops around century park: bounding box __top left__ `121.5276, 31.2256` and __bottom right__ `121.5705, 31.2097`"
   ]
  },
  {
   "cell_type": "code",
   "execution_count": 24,
   "metadata": {},
   "outputs": [
    {
     "data": {
      "text/plain": [
       "(136,\n",
       " '逸谷',\n",
       " 31.2123126416,\n",
       " 121.563296975,\n",
       " 'B2094757D065A6FF479C',\n",
       " '上海市芳甸路',\n",
       " '上海市,浦东新区,芳甸路',\n",
       " '广东菜',\n",
       " 'Cantonese cuisine',\n",
       " '餐饮',\n",
       " 72,\n",
       " 332,\n",
       " 308,\n",
       " 130)"
      ]
     },
     "execution_count": 24,
     "metadata": {},
     "output_type": "execute_result"
    }
   ],
   "source": [
    "query='''\n",
    "SELECT *\n",
    "FROM weibo_location\n",
    "WHERE longitude BETWEEN 121.5276 AND 121.5705\n",
    "AND latitude BETWEEN 31.2097 AND 31.2256\n",
    "'''\n",
    "c.execute(query)\n",
    "rows=c.fetchone()\n",
    "rows"
   ]
  },
  {
   "cell_type": "markdown",
   "metadata": {},
   "source": [
    "🤔 Select all the message where the text contains `happy` "
   ]
  },
  {
   "cell_type": "code",
   "execution_count": 16,
   "metadata": {},
   "outputs": [
    {
     "data": {
      "text/plain": [
       "(3520379303401237,\n",
       " ' @Joke_Li_CH  Happy Day[爱你] 我在这里：http://t.cn/zjcKBGB',\n",
       " 1828408552,\n",
       " 49448,\n",
       " '2012-12-06 23:21:34+08',\n",
       " None)"
      ]
     },
     "execution_count": 16,
     "metadata": {},
     "output_type": "execute_result"
    }
   ],
   "source": [
    "query='''\n",
    "SELECT *\n",
    "FROM weibo_status\n",
    "WHERE status LIKE '%happy%'\n",
    "'''\n",
    "c.execute(query)\n",
    "rows=c.fetchone()\n",
    "rows"
   ]
  },
  {
   "cell_type": "markdown",
   "metadata": {},
   "source": [
    "🤔 Select all the message where the text contains `happy` or `sad` "
   ]
  },
  {
   "cell_type": "code",
   "execution_count": 18,
   "metadata": {},
   "outputs": [
    {
     "data": {
      "text/plain": [
       "(3520379303401237,\n",
       " ' @Joke_Li_CH  Happy Day[爱你] 我在这里：http://t.cn/zjcKBGB',\n",
       " 1828408552,\n",
       " 49448,\n",
       " '2012-12-06 23:21:34+08',\n",
       " None)"
      ]
     },
     "execution_count": 18,
     "metadata": {},
     "output_type": "execute_result"
    }
   ],
   "source": [
    "query='''\n",
    "SELECT *\n",
    "FROM weibo_status\n",
    "WHERE status LIKE '%happy%' or '%sad%'\n",
    "'''\n",
    "c.execute(query)\n",
    "rows=c.fetchone()\n",
    "rows"
   ]
  },
  {
   "cell_type": "markdown",
   "metadata": {},
   "source": [
    "### query with counting\n",
    "\n",
    "🤔 what is the most popular word in the message, `happy` or `sad`?"
   ]
  },
  {
   "cell_type": "code",
   "execution_count": 39,
   "metadata": {},
   "outputs": [
    {
     "name": "stdout",
     "output_type": "stream",
     "text": [
      "happy is more popular\n"
     ]
    }
   ],
   "source": [
    "query = '''\n",
    "SELECT COUNT(*)\n",
    "FROM weibo_status\n",
    "WHERE status LIKE '%happy%'\n",
    "'''\n",
    "query1='''\n",
    "SELECT COUNT(*)\n",
    "FROM weibo_status\n",
    "WHERE status LIKE '%sad%'\n",
    "'''\n",
    "c.execute(query)\n",
    "rows_happy = c.fetchall()\n",
    "c.execute(query1)\n",
    "rows_sad = c.fetchall()\n",
    "if (rows_happy>rows_sad):\n",
    "    print(\"happy is more popular\")\n",
    "else:\n",
    "    print(\"sad is more popular\")"
   ]
  },
  {
   "cell_type": "markdown",
   "metadata": {},
   "source": [
    "### query with sorting\n",
    "\n",
    "🤔 show the top 10 coffee place according to their distinct user checkin count "
   ]
  },
  {
   "cell_type": "code",
   "execution_count": 55,
   "metadata": {},
   "outputs": [
    {
     "data": {
      "text/plain": [
       "[('星巴克(国贸360广场店)',),\n",
       " ('星巴克(新天地店)',),\n",
       " ('星巴克(来福士店)',),\n",
       " ('苏州中茵皇冠假日酒店',),\n",
       " ('星巴克咖啡美罗店',),\n",
       " ('古董花园 Antique Garden',),\n",
       " ('STARBUCKS COFFEE(大宁国际商业广场)',),\n",
       " ('星巴克咖啡(万达店)',),\n",
       " ('星巴克(龙之梦店)',),\n",
       " ('星巴克咖啡(南京路步行街)',)]"
      ]
     },
     "execution_count": 55,
     "metadata": {},
     "output_type": "execute_result"
    }
   ],
   "source": [
    "query='''\n",
    "SELECT title\n",
    "FROM weibo_location\n",
    "WHERE category_name = '咖啡厅'\n",
    "ORDER BY distinct_user_checkin_count DESC\n",
    "LIMIT 10\n",
    "'''\n",
    "c.execute(query)\n",
    "rows=c.fetchall()\n",
    "rows"
   ]
  },
  {
   "cell_type": "markdown",
   "metadata": {},
   "source": [
    "### query with grouping\n",
    "🤔 list the locations grouped by their english category name (remove the null and unknown categories)"
   ]
  },
  {
   "cell_type": "code",
   "execution_count": 63,
   "metadata": {},
   "outputs": [
    {
     "data": {
      "text/plain": [
       "[('ATM',),\n",
       " ('Activity',),\n",
       " ('Adult Education',),\n",
       " ('Airport',),\n",
       " ('American flavor',),\n",
       " ('Anhui dishes',),\n",
       " ('Antiques and paintings shop',),\n",
       " ('Aquarium',),\n",
       " ('Archives',),\n",
       " ('Art gallery',)]"
      ]
     },
     "execution_count": 63,
     "metadata": {},
     "output_type": "execute_result"
    }
   ],
   "source": [
    "query = '''\n",
    "SELECT DISTINCT category_en_name\n",
    "FROM weibo_location\n",
    "WHERE (category_en_name <> 'None' AND category_en_name <> 'Unknown Classification')\n",
    "GROUP BY category_en_name\n",
    "LIMIT 10\n",
    "'''\n",
    "c.execute(query)\n",
    "rows = c.fetchall()\n",
    "rows"
   ]
  },
  {
   "cell_type": "markdown",
   "metadata": {},
   "source": [
    "🤔 list the locations english category names and how many location each category has (remove the null and unknown categories)"
   ]
  },
  {
   "cell_type": "code",
   "execution_count": 62,
   "metadata": {},
   "outputs": [
    {
     "data": {
      "text/plain": [
       "[('ATM', 30),\n",
       " ('Activity', 8),\n",
       " ('Adult Education', 46),\n",
       " ('Airport', 183),\n",
       " ('American flavor', 8),\n",
       " ('Anhui dishes', 3),\n",
       " ('Antiques and paintings shop', 7),\n",
       " ('Aquarium', 2),\n",
       " ('Archives', 2),\n",
       " ('Art gallery', 17)]"
      ]
     },
     "execution_count": 62,
     "metadata": {},
     "output_type": "execute_result"
    }
   ],
   "source": [
    "query = '''\n",
    "SELECT DISTINCT category_en_name,COUNT(*)\n",
    "FROM weibo_location\n",
    "WHERE (category_en_name <> 'None' AND category_en_name <> 'Unknown Classification')\n",
    "GROUP BY category_en_name\n",
    "LIMIT 10\n",
    "'''\n",
    "c.execute(query)\n",
    "rows = c.fetchall()\n",
    "rows"
   ]
  },
  {
   "cell_type": "markdown",
   "metadata": {},
   "source": [
    "🤔 list the top 10 locations english category names according to their count (remove the null and unknown categories)"
   ]
  },
  {
   "cell_type": "code",
   "execution_count": 56,
   "metadata": {},
   "outputs": [
    {
     "data": {
      "text/plain": [
       "[('Residences', 5004),\n",
       " ('Food & Drink', 2294),\n",
       " ('Fast-food restaurant', 2254),\n",
       " ('Bus Station', 1859),\n",
       " ('Buildings', 1763),\n",
       " ('Other', 1735),\n",
       " ('Door', 1340),\n",
       " ('Live Entertainment', 1212),\n",
       " ('Shanghai cuisine', 990),\n",
       " ('Company', 811)]"
      ]
     },
     "execution_count": 56,
     "metadata": {},
     "output_type": "execute_result"
    }
   ],
   "source": [
    "query = '''\n",
    "SELECT DISTINCT category_en_name,COUNT(*)\n",
    "FROM weibo_location\n",
    "WHERE (category_en_name <> 'None' AND category_en_name <> 'Unknown Classification')\n",
    "GROUP BY category_en_name\n",
    "ORDER BY COUNT(*) DESC\n",
    "LIMIT 10\n",
    "'''\n",
    "c.execute(query)\n",
    "rows = c.fetchall()\n",
    "rows"
   ]
  },
  {
   "cell_type": "markdown",
   "metadata": {},
   "source": [
    "🤔 list the top 10 locations english per street ordered by count. If the count is the same, order by the (category, street) having the most total checking"
   ]
  },
  {
   "cell_type": "code",
   "execution_count": 75,
   "metadata": {},
   "outputs": [
    {
     "data": {
      "text/plain": [
       "[('Food & Drink', '上海市南京西路', '王品台塑牛排', 32, 6786),\n",
       " ('Other', '上海市南京西路', '佰家仟味', 28, 7737),\n",
       " ('Residences', '上海市场中路', '幸福第二公寓', 28, 713),\n",
       " ('Buildings', '上海市延安西路', '首信银都大厦', 26, 3243),\n",
       " ('Residences', '上海市斜土路', '福华花苑', 26, 384),\n",
       " ('Food & Drink', '上海市华山路', '海底捞', 25, 3053),\n",
       " ('Fast-food restaurant', '上海市共和新路', '健利来绿豆饼(共和新路店)', 25, 2366),\n",
       " ('Food & Drink', '上海市共和新路', '赤坂亭 大宁店 A KA SA KA TEI', 25, 1734),\n",
       " ('Airport', '上海市浦东机场路', '上海浦东国际机场T1航站楼', 24, 112067),\n",
       " ('Residences', '上海市共和新路', '宝业馨康苑', 24, 667)]"
      ]
     },
     "execution_count": 75,
     "metadata": {},
     "output_type": "execute_result"
    }
   ],
   "source": [
    "query = '''\n",
    "SELECT DISTINCT category_en_name,street,title,COUNT(*) as total,SUM(distinct_user_checkin_count) as checkin\n",
    "FROM weibo_location\n",
    "WHERE (street <> 'None' AND category_en_name <> 'None' AND category_en_name <> 'Unknown Classification')\n",
    "GROUP BY street,category_en_name\n",
    "ORDER BY total DESC,checkin DESC\n",
    "LIMIT 10\n",
    "'''\n",
    "c.execute(query)\n",
    "rows = c.fetchall()\n",
    "rows"
   ]
  },
  {
   "cell_type": "markdown",
   "metadata": {},
   "source": [
    "### query multiple tables\n",
    "🤔 select the top 10 location where people got birthday party"
   ]
  },
  {
   "cell_type": "code",
   "execution_count": 78,
   "metadata": {},
   "outputs": [
    {
     "data": {
      "text/plain": [
       "[('台北纯K Party', 12),\n",
       " ('唛歌时尚KTV(淮海中路店)', 11),\n",
       " ('银乐迪(虹口龙之梦店)', 10),\n",
       " ('Richy(复兴公园店)', 9),\n",
       " ('上海戏剧学院(莲花路校区)', 9),\n",
       " ('MUSE', 7),\n",
       " ('MUSE2', 7),\n",
       " ('银乐迪', 6),\n",
       " ('证大·大拇指广场', 6),\n",
       " ('大悦城', 6)]"
      ]
     },
     "execution_count": 78,
     "metadata": {},
     "output_type": "execute_result"
    }
   ],
   "source": [
    "query = '''\n",
    "SELECT \n",
    "    title,COUNT(*) as total\n",
    "FROM \n",
    "    weibo_status ws\n",
    "JOIN\n",
    "    weibo_location wl\n",
    "ON\n",
    "    ws.weibo_location_id = wl.weibo_location_id\n",
    "WHERE \n",
    "    status LIKE '%happy birthday%' or\n",
    "    status LIKE '%生日快乐%'\n",
    "GROUP BY\n",
    "    wl.weibo_location_id\n",
    "ORDER BY\n",
    "    total DESC\n",
    "LIMIT 10\n",
    "'''\n",
    "c.execute(query)\n",
    "rows = c.fetchall()\n",
    "rows"
   ]
  },
  {
   "cell_type": "markdown",
   "metadata": {},
   "source": [
    "🤔 select the top 10 favorite location where the top 500 most popular people"
   ]
  },
  {
   "cell_type": "code",
   "execution_count": 80,
   "metadata": {},
   "outputs": [
    {
     "data": {
      "text/plain": [
       "[('沪上一家辣肉面馆(成都北路店)', '上海市成都北路', 8),\n",
       " ('新天地', '上海市嵩山路', 7),\n",
       " ('川杨新苑三期', '上海市孙环路', 7),\n",
       " ('幸福码头', '上海市中山南路', 7),\n",
       " ('上海明天广场JW万豪酒店', '上海市江阴路', 7),\n",
       " ('汇贤居(The Summit)', '上海市安福路', 5),\n",
       " ('镇坪路', '上海市镇坪路', 5),\n",
       " ('环球金融中心', '上海市东泰路', 5),\n",
       " ('张江科教园区', '上海市华佗路', 5),\n",
       " ('中国联通', '上海市文治路', 5)]"
      ]
     },
     "execution_count": 80,
     "metadata": {},
     "output_type": "execute_result"
    }
   ],
   "source": [
    "query = '''\n",
    "SELECT \n",
    "    title,street,COUNT(*) as total\n",
    "FROM \n",
    "    weibo_status ws\n",
    "JOIN\n",
    "    weibo_location wl\n",
    "ON\n",
    "    ws.weibo_location_id = wl.weibo_location_id\n",
    "WHERE \n",
    "    ws.weibo_user_id in (\n",
    "        SELECT\n",
    "            weibo_user_id\n",
    "        FROM\n",
    "            weibo_user\n",
    "        ORDER BY\n",
    "            followers_count DESC\n",
    "        LIMIT 500\n",
    "    )\n",
    "GROUP BY\n",
    "    wl.weibo_location_id\n",
    "ORDER BY\n",
    "    total DESC\n",
    "LIMIT 10\n",
    "'''\n",
    "c.execute(query)\n",
    "rows = c.fetchall()\n",
    "rows"
   ]
  },
  {
   "cell_type": "markdown",
   "metadata": {},
   "source": [
    "🤔 THE FINAL QUERY\n",
    "1. select the top 50 favorite location where the 500 most popular woman go \n",
    "2. select the top 50 favorite location where the 500 most popular men go\n",
    "3. display the one they have in common and the one specific for each of these two genders orders by how many influencers go there"
   ]
  },
  {
   "cell_type": "code",
   "execution_count": 84,
   "metadata": {},
   "outputs": [
    {
     "data": {
      "text/plain": [
       "[('凤城三村', '上海市江浦路', 13),\n",
       " ('康泰新城', '上海市华灵路', 13),\n",
       " ('新天地', '上海市嵩山路', 9),\n",
       " ('幸福码头', '上海市中山南路', 7),\n",
       " ('万源城朗郡', '上海市古龙路', 6),\n",
       " ('汤臣高尔夫别墅', '上海市龙东大道', 6),\n",
       " ('七韵美地苑', '上海市吴中路', 6),\n",
       " ('MUSE2', '上海市兴安路', 6),\n",
       " ('汇贤居(The Summit)', '上海市安福路', 5),\n",
       " ('南宜花苑', '上海市凯旋路', 5),\n",
       " ('镇坪路', '上海市镇坪路', 5),\n",
       " ('环球金融中心', '上海市东泰路', 5),\n",
       " ('馥邦中环广场', '上海市天山路', 5),\n",
       " ('中国联通', '上海市文治路', 5),\n",
       " ('上海外滩华尔道夫酒店(Waldorf Astoria Shanghai on the Bund)', '上海市延安东路', 5),\n",
       " ('安居兰庭', '上海市兰溪路', 4),\n",
       " ('muse 2', '上海市兴安路', 4),\n",
       " ('梅赛德斯奔驰文化中心音乐俱乐部', '上海市博成路', 4),\n",
       " ('星巴克(东樱花苑店)', '上海市浦逸路', 4),\n",
       " ('上海柏悦酒店', '上海市世纪大道', 4),\n",
       " ('复旦大学南区', '上海市政肃路', 4),\n",
       " ('上海市园林学校', '上海市杨树浦路', 3),\n",
       " ('上海国金中心IFC', '上海市陆家嘴环路', 3),\n",
       " ('绿地普陀商务广场', '上海市新村路', 3),\n",
       " ('上戏剧院', '上海市华山路', 3),\n",
       " ('调频壹广场', '上海市长寿路', 3),\n",
       " ('星巴克(五角场店)', '上海市邯郸路', 3),\n",
       " ('柚子(陆家嘴店)', '上海市银城中路', 3),\n",
       " ('大华虎城', '上海市大华路', 3),\n",
       " ('2013跨年演唱会聚集地', '北京市远大东路', 3),\n",
       " ('国峰科技大厦', '上海市内环高架路入口', 3),\n",
       " ('上海明天广场JW万豪酒店', '上海市江阴路', 3),\n",
       " ('上海数娱大厦', '上海市虹桥路', 3),\n",
       " ('德州路西营路', '上海市德州路', 2),\n",
       " ('纽斯桑拿会所', '上海市金汇南路', 2),\n",
       " ('CGV星星国际影城大华店', '上海市大华路', 2),\n",
       " ('上大聚丰园', '上海市上大路', 2),\n",
       " ('上海浦东新区图书馆(新馆)', '上海市前程路', 2),\n",
       " ('外滩', '上海市中山东一路', 2),\n",
       " ('大悦城', '上海市西藏北路', 2),\n",
       " ('田子坊', '上海市建国中路', 2),\n",
       " ('IN-HOUSE', '上海市愚园路', 2),\n",
       " ('上岛咖啡 浦北店 UBC Coffee', '上海市桂平路', 2),\n",
       " ('上海外滩茂悦大酒店', '上海市南浔路', 2),\n",
       " ('同济大学(沪西校区)', '上海市真南路', 2),\n",
       " ('龙之梦影城', '上海市汇川路', 2),\n",
       " ('东华大学-莱佛士国际设计学院', '上海市新华路', 2),\n",
       " ('上海市公安局出入境管理局', '上海市民生路', 2),\n",
       " ('海底捞火锅(长寿路)', '上海市长寿路', 2),\n",
       " ('港匯恆隆廣場', '上海市华山路', 2)]"
      ]
     },
     "execution_count": 84,
     "metadata": {},
     "output_type": "execute_result"
    }
   ],
   "source": [
    "#q1\n",
    "query = '''\n",
    "SELECT \n",
    "    title,street,COUNT(*) as total\n",
    "FROM \n",
    "    weibo_status ws\n",
    "JOIN\n",
    "    weibo_location wl\n",
    "ON\n",
    "    ws.weibo_location_id = wl.weibo_location_id\n",
    "WHERE \n",
    "    ws.weibo_user_id in (\n",
    "        SELECT\n",
    "            weibo_user_id\n",
    "        FROM\n",
    "            weibo_user\n",
    "        WHERE \n",
    "            gender='f'\n",
    "        ORDER BY\n",
    "            followers_count DESC\n",
    "        LIMIT 500\n",
    "    )\n",
    "GROUP BY\n",
    "    wl.weibo_location_id\n",
    "ORDER BY\n",
    "    total DESC\n",
    "LIMIT 50\n",
    "'''\n",
    "c.execute(query)\n",
    "rows = c.fetchall()\n",
    "rows"
   ]
  },
  {
   "cell_type": "code",
   "execution_count": 112,
   "metadata": {},
   "outputs": [
    {
     "data": {
      "text/plain": [
       "[('上海财经大学中山北一路校区', '上海市新市路', 13),\n",
       " ('沪上一家辣肉面馆(成都北路店)', '上海市成都北路', 8),\n",
       " ('川杨新苑三期', '上海市孙环路', 7),\n",
       " ('张江科教园区', '上海市华佗路', 5),\n",
       " ('中远两湾城西区', '上海市光复西路', 4),\n",
       " ('和风造型私属Salon', '上海市上南路', 4),\n",
       " ('南新四村', '上海市下南路', 4),\n",
       " ('幸福路', '上海市幸福路', 4),\n",
       " ('虹口体育馆', '上海市东体育会路', 4),\n",
       " ('G-Star RAW旗舰店', '上海市成都北路', 4),\n",
       " ('豪享来 梅川店', '上海市梅川路', 4),\n",
       " ('一兆韦德(丽园店)', '上海市西藏南路', 4),\n",
       " ('上海明天广场JW万豪酒店', '上海市江阴路', 4),\n",
       " ('海伦路', '上海市四平路', 4),\n",
       " ('大宁国际商业广场', '上海市共和新路', 3),\n",
       " ('夜市豆浆油条店', '上海市临潼路', 3),\n",
       " ('张江学生社区', '上海市华佗路', 3),\n",
       " ('上戏剧院', '上海市华山路', 3),\n",
       " ('外环隧道', '上海市S20外环高速', 3),\n",
       " ('徐汇瑞峰酒店', '上海市肇嘉浜路', 3),\n",
       " ('北斗星商业广场', '上海市泉临路', 3),\n",
       " ('星瀚奔驰', '上海市南大路', 3),\n",
       " ('合阳小区(南二门)', '上海市延长西路', 3),\n",
       " ('金茂大厦', '上海市海兴路', 3),\n",
       " ('全家便利店(延安二店)', '上海市延安西路', 2),\n",
       " ('上海影城--世博国际影城', '上海市世博馆路', 2),\n",
       " ('上海光大会展中心', '上海市习勤路', 2),\n",
       " ('虹桥机场(一号航站楼)', '上海市空港一路', 2),\n",
       " ('新发展亚太万豪酒店', '上海市大渡河路', 2),\n",
       " ('上海龙之梦丽晶大酒店', '上海市延安西路', 2),\n",
       " ('上海大剧院', '上海市新昌路', 2),\n",
       " ('爱家豪庭', '上海市物华路', 2),\n",
       " ('伟业金锦苑二邨', '上海市莱阳路', 2),\n",
       " ('锦秋花园', '上海市锦秋路', 2),\n",
       " ('通河二村', '上海市长江西路', 2),\n",
       " ('浦东交警支队事故科东明事故受理点', '上海市东明路', 2),\n",
       " ('上海市杨浦区中心医院', '上海市波阳路', 2),\n",
       " ('东方明珠', '上海市陆家嘴东路', 2),\n",
       " ('潍坊九村(西门)', '上海市崂山路', 2),\n",
       " ('浦东嘉里中心', '上海市芳甸路', 2),\n",
       " ('Wagas沃歌斯(金桥国际广场店)', '上海市金桥路', 2),\n",
       " ('世纪联华(东宝店)', '上海市天通庵路', 2),\n",
       " ('海底捞火锅(长寿路)', '上海市长寿路', 2),\n",
       " ('张江传奇广场', '上海市碧波路', 2),\n",
       " ('上海半岛酒店(The Peninsula,Shanghai)', '上海市北京东路', 2),\n",
       " ('上海安达仕酒店', '上海市嵩山路', 2),\n",
       " ('上海戏剧学院(莲花路校区)', '上海市莲花路', 2),\n",
       " ('上岛咖啡 梅川路店 UBC Coffee', '上海市梅川路', 2),\n",
       " ('复旦大学上海医学院', '上海市同生东路', 2),\n",
       " ('桂美别墅', '上海市钦州南路', 2)]"
      ]
     },
     "execution_count": 112,
     "metadata": {},
     "output_type": "execute_result"
    }
   ],
   "source": [
    "#q2\n",
    "query = '''\n",
    "SELECT \n",
    "    title,street,COUNT(*) as total\n",
    "FROM \n",
    "    weibo_status ws\n",
    "JOIN\n",
    "    weibo_location wl\n",
    "ON\n",
    "    ws.weibo_location_id = wl.weibo_location_id\n",
    "WHERE \n",
    "    ws.weibo_user_id in (\n",
    "        SELECT\n",
    "            weibo_user_id\n",
    "        FROM\n",
    "            weibo_user\n",
    "        WHERE \n",
    "            gender='m'\n",
    "        ORDER BY\n",
    "            followers_count DESC\n",
    "        LIMIT 500\n",
    "    )\n",
    "GROUP BY\n",
    "    wl.weibo_location_id\n",
    "ORDER BY\n",
    "    total DESC\n",
    "LIMIT 50\n",
    "'''\n",
    "c.execute(query)\n",
    "rows = c.fetchall()\n",
    "rows"
   ]
  },
  {
   "cell_type": "code",
   "execution_count": 113,
   "metadata": {},
   "outputs": [
    {
     "data": {
      "text/plain": [
       "[('上海明天广场JW万豪酒店', '上海市江阴路', 2)]"
      ]
     },
     "execution_count": 113,
     "metadata": {},
     "output_type": "execute_result"
    }
   ],
   "source": [
    "#q3\n",
    "query = '''\n",
    "SELECT \n",
    "    title,street,COUNT(*) as total\n",
    "FROM\n",
    "    weibo_location\n",
    "WHERE\n",
    "    title in (\n",
    "        SELECT \n",
    "            title\n",
    "        FROM \n",
    "            weibo_status ws\n",
    "        JOIN\n",
    "            weibo_location wl\n",
    "        ON\n",
    "            ws.weibo_location_id = wl.weibo_location_id\n",
    "        WHERE \n",
    "            ws.weibo_user_id in (\n",
    "                SELECT \n",
    "                    weibo_user_id \n",
    "                FROM \n",
    "                    weibo_user \n",
    "                WHERE \n",
    "                    gender='f' \n",
    "                ORDER BY \n",
    "                    followers_count DESC \n",
    "                LIMIT 500 ) \n",
    "        GROUP BY\n",
    "            wl.weibo_location_id\n",
    "        ORDER BY\n",
    "            COUNT(*) DESC\n",
    "        LIMIT 50 )\n",
    "    AND\n",
    "    title in (\n",
    "        SELECT \n",
    "            title\n",
    "        FROM \n",
    "            weibo_status ws\n",
    "        JOIN\n",
    "            weibo_location wl\n",
    "        ON\n",
    "            ws.weibo_location_id = wl.weibo_location_id\n",
    "        WHERE \n",
    "            ws.weibo_user_id in (\n",
    "                SELECT \n",
    "                    weibo_user_id \n",
    "                FROM \n",
    "                    weibo_user \n",
    "                WHERE \n",
    "                    gender='m' \n",
    "                ORDER BY \n",
    "                    followers_count DESC \n",
    "                LIMIT 500 ) \n",
    "        GROUP BY\n",
    "            wl.weibo_location_id\n",
    "        ORDER BY\n",
    "            COUNT(*) DESC\n",
    "        LIMIT 50 )\n",
    "ORDER BY\n",
    "    total\n",
    "'''\n",
    "c.execute(query)\n",
    "rows = c.fetchall()\n",
    "rows"
   ]
  },
  {
   "cell_type": "code",
   "execution_count": null,
   "metadata": {},
   "outputs": [],
   "source": []
  }
 ],
 "metadata": {
  "kernelspec": {
   "display_name": "Python 3",
   "language": "python",
   "name": "python3"
  },
  "language_info": {
   "codemirror_mode": {
    "name": "ipython",
    "version": 3
   },
   "file_extension": ".py",
   "mimetype": "text/x-python",
   "name": "python",
   "nbconvert_exporter": "python",
   "pygments_lexer": "ipython3",
   "version": "3.8.5"
  }
 },
 "nbformat": 4,
 "nbformat_minor": 4
}
